{
  "nbformat": 4,
  "nbformat_minor": 0,
  "metadata": {
    "colab": {
      "name": "day1b.ipynb",
      "version": "0.3.2",
      "provenance": [],
      "include_colab_link": true
    },
    "kernelspec": {
      "name": "python3",
      "display_name": "Python 3"
    }
  },
  "cells": [
    {
      "cell_type": "markdown",
      "metadata": {
        "id": "view-in-github",
        "colab_type": "text"
      },
      "source": [
        "[View in Colaboratory](https://colab.research.google.com/github/ajit1519/AUAISummer2018/blob/master/day1-July3/day1b.ipynb)"
      ]
    },
    {
      "metadata": {
        "id": "7gWZimMXoYvU",
        "colab_type": "text"
      },
      "cell_type": "markdown",
      "source": [
        "#AU AI Summer Program 2018\n",
        "##Day 1 Afternoon\n",
        "##Introduction to Artificial Intelligence\n",
        "\n",
        "##Metrics of Intelligence\n",
        "○Brain to Body mass ratio\n",
        "\n",
        "○Number of neurons\n",
        "\n",
        "○Encephalization quotient\n",
        "\n",
        "##Supervised ML-Training is done using labelled data\n",
        "Algorithm learns the mapping function from the input to\n",
        "the output. Y = f(X)\n",
        "\n",
        "##Unsupervised ML-Training is done using unlabelled data\n",
        "Algorithms are left to their own devises to discover and\n",
        "present the interesting structure in the data\n",
        "\n",
        "##Deep Neural Networks-Dramatic improvements in accuracy and runtime in multiple\n",
        "domains\n",
        "\n",
        "○ Image Detection\n",
        "\n",
        "○ Face Recognition\n",
        "\n",
        "○ Gesture Recognition\n",
        "\n",
        "○ Video Search & Analytics\n",
        "\n",
        "○ Speech Recognition & Translation\n",
        "\n",
        "○ Recommendation Engines\n",
        "\n",
        "○ Indexing & Search\n",
        "\n",
        "##Kaggle\n",
        "Kaggle is a platform for predictive modelling and analytics competitions in which statisticians and data miners compete to produce the best models for predicting and describing the datasets uploaded by companies and users. This crowdsourcing approach relies on the fact that there are countless strategies that can be applied to any predictive modelling task and it is impossible to know beforehand which technique or analyst will be most effective.\n",
        "\n",
        "##AI challenge: https://www.general-ai-challenge.org/\n"
      ]
    }
  ]
}