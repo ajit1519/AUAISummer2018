{
  "nbformat": 4,
  "nbformat_minor": 0,
  "metadata": {
    "colab": {
      "name": "day1a.ipynb",
      "version": "0.3.2",
      "provenance": [],
      "include_colab_link": true
    },
    "kernelspec": {
      "name": "python3",
      "display_name": "Python 3"
    }
  },
  "cells": [
    {
      "cell_type": "markdown",
      "metadata": {
        "id": "view-in-github",
        "colab_type": "text"
      },
      "source": [
        "[View in Colaboratory](https://colab.research.google.com/github/ajit1519/AUAISummer2018/blob/master/day1-July3/day1a.ipynb)"
      ]
    },
    {
      "metadata": {
        "id": "ldOuLWANmBU-",
        "colab_type": "text"
      },
      "cell_type": "markdown",
      "source": [
        "#AU AI Summer Program 2018\n",
        "##Day1 - Assignment 1A\n",
        "Course online tools: http://summer.aiplab.net/\n",
        "\n",
        "Assignment: https://github.com/\n",
        "\n",
        "course evaluation: https://goo.gl/forms/riRBBNXe0CF6y7zl1\n",
        "\n",
        "Markdown Guide https://guides.github.com/features/mastering-markdown/ \n",
        "\n",
        "google colaboratory: https://colab.research.google.com"
      ]
    }
  ]
}